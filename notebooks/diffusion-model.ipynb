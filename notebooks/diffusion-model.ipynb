{
 "cells": [
  {
   "cell_type": "markdown",
   "id": "4716bd97-2b3e-4cc2-8f60-52ce8d59f753",
   "metadata": {},
   "source": [
    "# A 1D Diffusion Model "
   ]
  },
  {
   "cell_type": "markdown",
   "id": "77ad59dd-167e-4053-a3c7-e0e894bf9db2",
   "metadata": {},
   "source": [
    "Here we develop a one-dimensional model of diffusion.\n",
    "It assumes a constant diffusivity.\n",
    "It uses regular grid.\n",
    "It has a step function for an initial condition.\n",
    "It has fixed boundary conditions."
   ]
  },
  {
   "cell_type": "markdown",
   "id": "6de60219-fde6-453c-b99c-ddd5069a4640",
   "metadata": {},
   "source": [
    "Here is the diffusion equation:"
   ]
  },
  {
   "cell_type": "markdown",
   "id": "240d12ca-b665-47ab-92eb-b24f0dcc3029",
   "metadata": {},
   "source": [
    "$$ \\frac{\\partial C}{\\partial t} = D\\frac{\\partial^2 C}{\\partial x^2} $$"
   ]
  },
  {
   "cell_type": "markdown",
   "id": "6bde4c72-c554-4598-80cc-5fd59dbbcc97",
   "metadata": {},
   "source": [
    "Here is the discretized version of the diffusion equation we will solve with our model:"
   ]
  },
  {
   "cell_type": "markdown",
   "id": "527b58cc-f1b9-4626-9594-1fc53ccef755",
   "metadata": {},
   "source": [
    "$$ C^{t+1}_x = C^t_x + {D \\Delta t \\over \\Delta x^2} (C^t_{x+1} - 2C^t_x + C^t_{x-1}) $$"
   ]
  },
  {
   "cell_type": "markdown",
   "id": "86578f9a-14e1-4f8c-b4a2-1a0d9b04b7f9",
   "metadata": {},
   "source": [
    "This is the FTCS scheme as described by Slingerland and Kump (2011)."
   ]
  },
  {
   "cell_type": "markdown",
   "id": "7972291b-3c0d-4620-b257-62f828b19e14",
   "metadata": {},
   "source": [
    "We'll use two libraries, NumPy (for arrays) and Matplotlib (for plotting), that aren't a part of the core Python distribution."
   ]
  },
  {
   "cell_type": "code",
   "execution_count": null,
   "id": "926f5da6-f36c-4714-86b7-9e81df34b1a0",
   "metadata": {},
   "outputs": [],
   "source": [
    "import numpy as np\n",
    "import matplotlib.pyplot as plt "
   ]
  },
  {
   "cell_type": "markdown",
   "id": "1352926a-a1a6-49ed-af2d-62d7592a490d",
   "metadata": {},
   "source": [
    "Start by setting two fixed model parameters, the diffusivity and the size of the model domain.\n"
   ]
  },
  {
   "cell_type": "code",
   "execution_count": null,
   "id": "3230073f-e22c-44ac-9acc-61cd5030785f",
   "metadata": {},
   "outputs": [],
   "source": [
    "D = 100\n",
    "Lx = 300"
   ]
  },
  {
   "cell_type": "code",
   "execution_count": null,
   "id": "646bbe98-004b-401c-9a02-990b931bcf94",
   "metadata": {},
   "outputs": [],
   "source": [
    "dx = 0.5\n",
    "x = np.arange(start=0, stop=Lx, step=dx)\n",
    "nx = len(x)"
   ]
  },
  {
   "cell_type": "code",
   "execution_count": null,
   "id": "7ab9d181-4dc8-436b-9b53-75dc6435417a",
   "metadata": {},
   "outputs": [],
   "source": [
    "nx"
   ]
  },
  {
   "cell_type": "code",
   "execution_count": null,
   "id": "4421e242-dba1-469c-8868-c02b09efe2de",
   "metadata": {},
   "outputs": [],
   "source": [
    "x[-1]"
   ]
  },
  {
   "cell_type": "code",
   "execution_count": null,
   "id": "9acda3dd-f60f-45de-86f6-a6e87ccca987",
   "metadata": {},
   "outputs": [],
   "source": [
    "x[0]"
   ]
  },
  {
   "cell_type": "code",
   "execution_count": null,
   "id": "d8cfe3cb-9b9e-4deb-93c4-32a4120852f9",
   "metadata": {},
   "outputs": [],
   "source": [
    "x[-2]"
   ]
  },
  {
   "cell_type": "code",
   "execution_count": null,
   "id": "8a8000dc-b8cb-4142-a503-103aa3b65fed",
   "metadata": {},
   "outputs": [],
   "source": [
    "x[0:5]"
   ]
  },
  {
   "cell_type": "code",
   "execution_count": null,
   "id": "a29f440b-bae0-478e-b5fc-45bfc1113625",
   "metadata": {},
   "outputs": [],
   "source": [
    "x[-5:]"
   ]
  },
  {
   "cell_type": "markdown",
   "id": "a5522b68-eb7e-4a74-98d7-18720abb6519",
   "metadata": {},
   "source": [
    "Set the initial conditions for the model.\n",
    "The cake `C` is a step function with a high value on the left, a low value on the right, and a step at the center of the domain."
   ]
  },
  {
   "cell_type": "code",
   "execution_count": null,
   "id": "bbe571ff-2e5a-45aa-8b52-dce483e6bc29",
   "metadata": {},
   "outputs": [],
   "source": [
    "C=np.zeros_like(x) \n",
    "C_left=500\n",
    "C_right=0\n",
    "C[x <= Lx/2] = C_left\n",
    "C[x > Lx / 2] = C_right"
   ]
  },
  {
   "cell_type": "markdown",
   "id": "a5f568c0-720c-4269-86bd-0ca641e47252",
   "metadata": {},
   "source": [
    "Plot the initial profile."
   ]
  },
  {
   "cell_type": "code",
   "execution_count": null,
   "id": "db935658-a447-42ae-88d7-23e9086c7f01",
   "metadata": {},
   "outputs": [],
   "source": [
    "plt.figure()\n",
    "plt.plot(x, C, \"r\")\n",
    "plt.xlabel(\"x\")\n",
    "plt.ylabel(\"C\")\n",
    "plt.title(\"Initial Profile\")"
   ]
  },
  {
   "cell_type": "markdown",
   "id": "283cef40-7345-430e-a3d4-ee99eec0aca1",
   "metadata": {},
   "source": [
    "Set the number of time steps in the model.\n",
    "Calculate a stable time step using a stability criterion."
   ]
  },
  {
   "cell_type": "code",
   "execution_count": null,
   "id": "e2a965d1-7120-4768-9359-81bda7318bb7",
   "metadata": {},
   "outputs": [],
   "source": [
    "nt = 5000\n",
    "dt = 0.5 * dx ** 2 / D"
   ]
  },
  {
   "cell_type": "markdown",
   "id": "b3080db3-34e4-4a74-8f47-47deec902395",
   "metadata": {},
   "source": [
    "Loop over the time steps of the model, solving the diffusion equation using FTCS scheme shown above.\n",
    "Note the use of array operations on the variable `C`. \n",
    "The boundary conditions remain fixed in each time step."
   ]
  },
  {
   "cell_type": "code",
   "execution_count": null,
   "id": "9ac8e0ff-762a-4f49-bf93-46a9721fe161",
   "metadata": {},
   "outputs": [],
   "source": [
    "for t in range(0, nt):\n",
    "\tC[1:-1] += D * dt / dx ** 2 * (C[:-2] - 2*C[1:-1] + C[2:])"
   ]
  },
  {
   "cell_type": "markdown",
   "id": "b433cb27-80a1-4e94-8d4c-2f0fac917042",
   "metadata": {},
   "source": [
    "Plot the result."
   ]
  },
  {
   "cell_type": "code",
   "execution_count": null,
   "id": "de91d139-751c-4fda-adb3-597b8c7bf6dd",
   "metadata": {},
   "outputs": [],
   "source": [
    "plt.plot(x, C, \"b\")\n",
    "plt.xlabel(\"x\")\n",
    "plt.ylabel(\"C\")\n",
    "plt.title(\"Final Profile\")"
   ]
  }
 ],
 "metadata": {
  "kernelspec": {
   "display_name": "Ivy",
   "language": "python",
   "name": "ivy"
  },
  "language_info": {
   "codemirror_mode": {
    "name": "ipython",
    "version": 3
   },
   "file_extension": ".py",
   "mimetype": "text/x-python",
   "name": "python",
   "nbconvert_exporter": "python",
   "pygments_lexer": "ipython3",
   "version": "3.13.3"
  }
 },
 "nbformat": 4,
 "nbformat_minor": 5
}
